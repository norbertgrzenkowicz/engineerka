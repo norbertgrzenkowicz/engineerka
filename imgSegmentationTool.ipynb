{
 "cells": [
  {
   "cell_type": "code",
   "execution_count": null,
   "metadata": {},
   "outputs": [],
   "source": [
    "%matplotlib ipympl\n",
    "import matplotlib.cbook as cbook\n",
    "import matplotlib.pyplot as plt\n",
    "import numpy as np\n",
    "import os\n",
    "import PIL\n",
    "\n",
    "from mpl_interactions import image_segmenter\n",
    "\n",
    "currentDir = os.getcwd()\n"
   ]
  },
  {
   "cell_type": "code",
   "execution_count": null,
   "metadata": {},
   "outputs": [],
   "source": [
    "dataset_path = currentDir + '/data/road/test/unlabeled'\n",
    "dataset_classes = [\"unlabeled\", \"labeled\"]\n",
    "data_paths = [currentDir + '/data/road/test/unlabeled', currentDir + '/data/road/test/labeled']\n",
    "# for classes in dataset_classes: data_paths.append(dataset_path + classes)\n",
    "\n",
    "\n",
    "data_paths[0]"
   ]
  },
  {
   "cell_type": "code",
   "execution_count": null,
   "metadata": {},
   "outputs": [],
   "source": [
    "segmentedDataSetPath = currentDir + '/data/road/test/labeled'\n",
    "\n",
    "def saveSegmentedData(segmentedSegmenter, counter, identifier='NaN'):\n",
    "    new_data = PIL.Image.fromarray(segmentedSegmenter.mask * 255)\n",
    "    if new_data.mode != 'RGB':\n",
    "        new_data = new_data.convert('RGB')\n",
    "    \n",
    "    # identifier = 'R' if data_class == 'curvy' else 'r'    \n",
    "\n",
    "    # identifier = 'street'\n",
    "\n",
    "    # saved_path = segmentedDataSetPath + '/' + data_class + '/' +  identifier + str(counter) + '.jpg'\n",
    "\n",
    "    \n",
    "    saved_path = segmentedDataSetPath + '/' + identifier + str(counter) + '.png'\n",
    "\n",
    "    print(saved_path)\n",
    "\n",
    "    new_data.save(saved_path)\n",
    "\n",
    "    return saved_path\n"
   ]
  },
  {
   "cell_type": "code",
   "execution_count": null,
   "metadata": {},
   "outputs": [],
   "source": [
    "counter = 0\n",
    "\n",
    "unlabeledList = os.listdir(data_paths[0])\n",
    "len(unlabeledList)"
   ]
  },
  {
   "cell_type": "code",
   "execution_count": null,
   "metadata": {},
   "outputs": [],
   "source": [
    "labeledList = os.listdir(data_paths[1])\n",
    "len(labeledList)"
   ]
  },
  {
   "cell_type": "code",
   "execution_count": null,
   "metadata": {},
   "outputs": [],
   "source": [
    "data_path = data_paths[0] + '/' + unlabeledList[0]\n",
    "\n",
    "# if unlabeledList[counter] not in labeledList:\n",
    "#     print('test')\n",
    "data_path"
   ]
  },
  {
   "cell_type": "code",
   "execution_count": null,
   "metadata": {},
   "outputs": [],
   "source": [
    "# import cv2\n",
    "# import numpy as np\n",
    "# import os\n",
    "# for image in unlabeledList:\n",
    "#     if image not in labeledList:\n",
    "#         print(image)\n",
    "#         print(dataset_path + '/' + image)\n",
    "#         img = cv2.imread(dataset_path + '/' + image)\n",
    "\n",
    "#         cropped_image = img[:1000,:]\n",
    "#         cv2.imwrite(dataset_path + '/' + 'cropped' + image, cropped_image)\n",
    "\n",
    "# cv2.waitKey(0)\n",
    "# cv2.destroyAllWindows()"
   ]
  },
  {
   "cell_type": "code",
   "execution_count": null,
   "metadata": {},
   "outputs": [],
   "source": [
    "\n",
    "\n",
    "data_path = data_paths[0] + '/' + unlabeledList[counter]\n",
    "\n",
    "import re\n",
    "list = re.findall(r'\\d+', unlabeledList[counter])\n",
    "index = list[0]\n",
    "\n",
    "\n",
    "print('counter', counter)\n",
    "\n",
    "print(index)\n",
    "if unlabeledList[counter] not in labeledList:\n",
    "    img = (PIL.Image.open(data_path)).resize((256, 256))\n",
    "    image = plt.imread(data_path)\n",
    "    segmenter = image_segmenter(image, mask_colors=\"white\", mask_alpha=0.76, figsize=(7, 7))\n",
    "    display(segmenter)\n"
   ]
  },
  {
   "cell_type": "code",
   "execution_count": null,
   "metadata": {},
   "outputs": [],
   "source": [
    "print(\"Saved segmented picture to  {0}\".format(saveSegmentedData(segmenter, 24, identifier='road_')))"
   ]
  },
  {
   "cell_type": "code",
   "execution_count": null,
   "metadata": {},
   "outputs": [],
   "source": [
    "if len(labeledList) < len(unlabeledList):\n",
    "    counter += 1"
   ]
  },
  {
   "cell_type": "code",
   "execution_count": null,
   "metadata": {},
   "outputs": [],
   "source": [
    "post = os.listdir(data_paths[1])\n",
    "len(post)"
   ]
  },
  {
   "cell_type": "code",
   "execution_count": null,
   "metadata": {},
   "outputs": [],
   "source": [
    "for el in unlabeledList:\n",
    "    if el not in labeledList:\n",
    "        print(el)"
   ]
  },
  {
   "cell_type": "code",
   "execution_count": null,
   "metadata": {},
   "outputs": [],
   "source": [
    "index = 372\n",
    "\n",
    "data_path = data_paths[0] + '/' + 'road_372.png' \n",
    "\n",
    "img = (PIL.Image.open(data_path)).resize((256, 256))\n",
    "\n",
    "image = plt.imread(data_path)\n",
    "segmenter = image_segmenter(image, mask_colors=\"white\", mask_alpha=0.76, figsize=(7, 7))\n",
    "display(segmenter)"
   ]
  },
  {
   "cell_type": "code",
   "execution_count": null,
   "metadata": {},
   "outputs": [],
   "source": []
  }
 ],
 "metadata": {
  "kernelspec": {
   "display_name": "Python 3.9.12 ('base')",
   "language": "python",
   "name": "python3"
  },
  "language_info": {
   "codemirror_mode": {
    "name": "ipython",
    "version": 3
   },
   "file_extension": ".py",
   "mimetype": "text/x-python",
   "name": "python",
   "nbconvert_exporter": "python",
   "pygments_lexer": "ipython3",
   "version": "3.9.12"
  },
  "orig_nbformat": 4,
  "vscode": {
   "interpreter": {
    "hash": "caee5ae07aec6e41e7397ae8a0c1be64f707d53fa099946c594bb9378eb2516f"
   }
  }
 },
 "nbformat": 4,
 "nbformat_minor": 2
}
